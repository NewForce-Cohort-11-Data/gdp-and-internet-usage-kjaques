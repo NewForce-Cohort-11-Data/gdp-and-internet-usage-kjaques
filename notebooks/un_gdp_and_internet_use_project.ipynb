{
 "cells": [
  {
   "cell_type": "markdown",
   "id": "99c7aa84-4e08-4492-8bc3-986eadb59a56",
   "metadata": {
    "jp-MarkdownHeadingCollapsed": true
   },
   "source": [
    "### 1. Create a data folder in your local project repository."
   ]
  },
  {
   "cell_type": "markdown",
   "id": "2e635660-ed8c-484b-8f42-c477841dc8e5",
   "metadata": {},
   "source": [
    "\n",
    "\n",
    "### 2. Download these two CSV files and place them in the data folder:\n",
    "\n",
    "> a. Gross Domestic Product (GDP) per capita http://data.un.org/Data.aspx?d=WDI&f=Indicator_Code%3aNY.GDP.PCAP.PP.KD DO NOT APPLY ANY FILTERS\n",
    ">\n",
    ">    rename the file to gdp_percapita.csv\n",
    ">    open it with a text editor (not excel) and take a look at the top and bottom, do you notice anything?\n",
    "\n",
    "*4 columns with headers. Values for each country across multiple years. Long trailing decimal on the Value. Value Footnotes column appears mostly blank.*\n",
    "\n",
    "> b. Percentage of Individuals using the Internet http://data.un.org/Data.aspx?d=ITU&f=ind1Code%3aI99H DO NOT APPLY ANY FILTERS\n",
    ">\n",
    ">    rename the file to internet_use.csv\n",
    "    open it with a text editor (not excel) and take a look at the top and bottom, do you notice anything?\n",
    "\n",
    "*Footnotes explanations at the bottom which don't fit into the main table schema. This table is otherwise similar to the previous one, but the decimals for Value are neater and the Value Footnotes contains data.*"
   ]
  },
  {
   "cell_type": "markdown",
   "id": "415c014e-e962-4739-9a76-1e93d10cadf8",
   "metadata": {},
   "source": [
    "\n",
    "### 3. Create a notebooks folder and launch a Jupyter Notebook in this folder. Give it a meaningful name.\n",
    ">\n",
    ">   IMPORTANT: You are likely to get errors along the way. When you do, read the errors to try to understand what is happening and how to correct it.\n",
    ">\n",
    ">   Use markdown cells to record your answers to any questions asked in this exercise. On the menu bar, you can toggle the cell type from Code to Markdown.\n",
    ">\n",
    ">   Import the required packages with their customary aliases as follows:\n"
   ]
  },
  {
   "cell_type": "code",
   "execution_count": 2,
   "id": "0dacd939-76ca-4e08-a99a-89dca278d5dc",
   "metadata": {},
   "outputs": [],
   "source": [
    "import pandas as pd\n",
    "import numpy as np\n",
    "import matplotlib.pyplot as plt\n",
    "import seaborn as sns"
   ]
  },
  {
   "cell_type": "markdown",
   "id": "1d16dae4-2c00-47c0-8faf-68c1d0e75d0a",
   "metadata": {},
   "source": [
    "### 4. Using the pandas read_csv() method, read the GDP dataset into your notebook as a DataFrame called gdp_df. Take a look at the first few and last few rows to familiarize yourself with what is contained in this dataset."
   ]
  },
  {
   "cell_type": "code",
   "execution_count": 3,
   "id": "e0205b83-5ce5-4dc9-bbc7-3d31ad6f8f93",
   "metadata": {},
   "outputs": [],
   "source": [
    "gdp_df = pd.read_csv('../data/gdp_percapita.csv')"
   ]
  },
  {
   "cell_type": "code",
   "execution_count": 4,
   "id": "67aeeb09-6469-4600-812c-b6ab4a48f34e",
   "metadata": {},
   "outputs": [
    {
     "data": {
      "text/html": [
       "<div>\n",
       "<style scoped>\n",
       "    .dataframe tbody tr th:only-of-type {\n",
       "        vertical-align: middle;\n",
       "    }\n",
       "\n",
       "    .dataframe tbody tr th {\n",
       "        vertical-align: top;\n",
       "    }\n",
       "\n",
       "    .dataframe thead th {\n",
       "        text-align: right;\n",
       "    }\n",
       "</style>\n",
       "<table border=\"1\" class=\"dataframe\">\n",
       "  <thead>\n",
       "    <tr style=\"text-align: right;\">\n",
       "      <th></th>\n",
       "      <th>Country or Area</th>\n",
       "      <th>Year</th>\n",
       "      <th>Value</th>\n",
       "      <th>Value Footnotes</th>\n",
       "    </tr>\n",
       "  </thead>\n",
       "  <tbody>\n",
       "    <tr>\n",
       "      <th>0</th>\n",
       "      <td>Afghanistan</td>\n",
       "      <td>2023</td>\n",
       "      <td>1992.424394</td>\n",
       "      <td>NaN</td>\n",
       "    </tr>\n",
       "    <tr>\n",
       "      <th>1</th>\n",
       "      <td>Afghanistan</td>\n",
       "      <td>2022</td>\n",
       "      <td>1981.710168</td>\n",
       "      <td>NaN</td>\n",
       "    </tr>\n",
       "    <tr>\n",
       "      <th>2</th>\n",
       "      <td>Afghanistan</td>\n",
       "      <td>2021</td>\n",
       "      <td>2144.166570</td>\n",
       "      <td>NaN</td>\n",
       "    </tr>\n",
       "    <tr>\n",
       "      <th>3</th>\n",
       "      <td>Afghanistan</td>\n",
       "      <td>2020</td>\n",
       "      <td>2769.685745</td>\n",
       "      <td>NaN</td>\n",
       "    </tr>\n",
       "    <tr>\n",
       "      <th>4</th>\n",
       "      <td>Afghanistan</td>\n",
       "      <td>2019</td>\n",
       "      <td>2927.245144</td>\n",
       "      <td>NaN</td>\n",
       "    </tr>\n",
       "    <tr>\n",
       "      <th>...</th>\n",
       "      <td>...</td>\n",
       "      <td>...</td>\n",
       "      <td>...</td>\n",
       "      <td>...</td>\n",
       "    </tr>\n",
       "    <tr>\n",
       "      <th>8214</th>\n",
       "      <td>Zimbabwe</td>\n",
       "      <td>1994</td>\n",
       "      <td>3965.730986</td>\n",
       "      <td>NaN</td>\n",
       "    </tr>\n",
       "    <tr>\n",
       "      <th>8215</th>\n",
       "      <td>Zimbabwe</td>\n",
       "      <td>1993</td>\n",
       "      <td>3634.750494</td>\n",
       "      <td>NaN</td>\n",
       "    </tr>\n",
       "    <tr>\n",
       "      <th>8216</th>\n",
       "      <td>Zimbabwe</td>\n",
       "      <td>1992</td>\n",
       "      <td>3649.891947</td>\n",
       "      <td>NaN</td>\n",
       "    </tr>\n",
       "    <tr>\n",
       "      <th>8217</th>\n",
       "      <td>Zimbabwe</td>\n",
       "      <td>1991</td>\n",
       "      <td>4126.405247</td>\n",
       "      <td>NaN</td>\n",
       "    </tr>\n",
       "    <tr>\n",
       "      <th>8218</th>\n",
       "      <td>Zimbabwe</td>\n",
       "      <td>1990</td>\n",
       "      <td>4013.299059</td>\n",
       "      <td>NaN</td>\n",
       "    </tr>\n",
       "  </tbody>\n",
       "</table>\n",
       "<p>8219 rows × 4 columns</p>\n",
       "</div>"
      ],
      "text/plain": [
       "     Country or Area  Year        Value  Value Footnotes\n",
       "0        Afghanistan  2023  1992.424394              NaN\n",
       "1        Afghanistan  2022  1981.710168              NaN\n",
       "2        Afghanistan  2021  2144.166570              NaN\n",
       "3        Afghanistan  2020  2769.685745              NaN\n",
       "4        Afghanistan  2019  2927.245144              NaN\n",
       "...              ...   ...          ...              ...\n",
       "8214        Zimbabwe  1994  3965.730986              NaN\n",
       "8215        Zimbabwe  1993  3634.750494              NaN\n",
       "8216        Zimbabwe  1992  3649.891947              NaN\n",
       "8217        Zimbabwe  1991  4126.405247              NaN\n",
       "8218        Zimbabwe  1990  4013.299059              NaN\n",
       "\n",
       "[8219 rows x 4 columns]"
      ]
     },
     "execution_count": 4,
     "metadata": {},
     "output_type": "execute_result"
    }
   ],
   "source": [
    "gdp_df"
   ]
  },
  {
   "cell_type": "markdown",
   "id": "b28e0524-6cbb-4dd2-b407-899a2dcd19cd",
   "metadata": {},
   "source": [
    "### 5. How many rows and columns are in gdp_df? What are the data types of each column?\n",
    "\n",
    "*8219 rows, 4 columns*\n",
    "\n",
    "*Datatypes: Country or Area = object, Year = int64, Value = float64, Value Footnotes = float64*"
   ]
  },
  {
   "cell_type": "code",
   "execution_count": 10,
   "id": "5c32eaed-fe14-4b17-a9cd-286948e4c704",
   "metadata": {},
   "outputs": [
    {
     "data": {
      "text/plain": [
       "(8219, 4)"
      ]
     },
     "execution_count": 10,
     "metadata": {},
     "output_type": "execute_result"
    }
   ],
   "source": [
    "gdp_df.shape"
   ]
  },
  {
   "cell_type": "code",
   "execution_count": 11,
   "id": "18a41d43-ef0e-4389-a24b-076372b6006d",
   "metadata": {},
   "outputs": [
    {
     "name": "stdout",
     "output_type": "stream",
     "text": [
      "<class 'pandas.core.frame.DataFrame'>\n",
      "RangeIndex: 8219 entries, 0 to 8218\n",
      "Data columns (total 4 columns):\n",
      " #   Column           Non-Null Count  Dtype  \n",
      "---  ------           --------------  -----  \n",
      " 0   Country or Area  8219 non-null   object \n",
      " 1   Year             8219 non-null   int64  \n",
      " 2   Value            8219 non-null   float64\n",
      " 3   Value Footnotes  0 non-null      float64\n",
      "dtypes: float64(2), int64(1), object(1)\n",
      "memory usage: 257.0+ KB\n"
     ]
    }
   ],
   "source": [
    "gdp_df.info()"
   ]
  },
  {
   "cell_type": "markdown",
   "id": "55269f7b-be1c-4982-b9e3-2cb7f1ee7624",
   "metadata": {},
   "source": [
    "### 6. Drop the Value Footnotes column and rename the remaining three to 'Country', 'Year', and 'GDP_Per_Capita'."
   ]
  },
  {
   "cell_type": "code",
   "execution_count": 12,
   "id": "051f6897-8f13-4cd3-9ec7-ef5bcc290d2f",
   "metadata": {},
   "outputs": [],
   "source": [
    "gdp_df = gdp_df.drop(columns = ['Value Footnotes'])"
   ]
  },
  {
   "cell_type": "code",
   "execution_count": 13,
   "id": "1a6ff69c-b75a-4538-af5f-3c56e44a6d19",
   "metadata": {},
   "outputs": [],
   "source": [
    "gdp_df.columns = ['Country', 'Year', 'GDP_Per_Capita']"
   ]
  },
  {
   "cell_type": "code",
   "execution_count": 14,
   "id": "06232979-c719-4284-b7e0-9573763baf76",
   "metadata": {},
   "outputs": [
    {
     "data": {
      "text/html": [
       "<div>\n",
       "<style scoped>\n",
       "    .dataframe tbody tr th:only-of-type {\n",
       "        vertical-align: middle;\n",
       "    }\n",
       "\n",
       "    .dataframe tbody tr th {\n",
       "        vertical-align: top;\n",
       "    }\n",
       "\n",
       "    .dataframe thead th {\n",
       "        text-align: right;\n",
       "    }\n",
       "</style>\n",
       "<table border=\"1\" class=\"dataframe\">\n",
       "  <thead>\n",
       "    <tr style=\"text-align: right;\">\n",
       "      <th></th>\n",
       "      <th>Country</th>\n",
       "      <th>Year</th>\n",
       "      <th>GDP_Per_Capita</th>\n",
       "    </tr>\n",
       "  </thead>\n",
       "  <tbody>\n",
       "    <tr>\n",
       "      <th>0</th>\n",
       "      <td>Afghanistan</td>\n",
       "      <td>2023</td>\n",
       "      <td>1992.424394</td>\n",
       "    </tr>\n",
       "    <tr>\n",
       "      <th>1</th>\n",
       "      <td>Afghanistan</td>\n",
       "      <td>2022</td>\n",
       "      <td>1981.710168</td>\n",
       "    </tr>\n",
       "    <tr>\n",
       "      <th>2</th>\n",
       "      <td>Afghanistan</td>\n",
       "      <td>2021</td>\n",
       "      <td>2144.166570</td>\n",
       "    </tr>\n",
       "    <tr>\n",
       "      <th>3</th>\n",
       "      <td>Afghanistan</td>\n",
       "      <td>2020</td>\n",
       "      <td>2769.685745</td>\n",
       "    </tr>\n",
       "    <tr>\n",
       "      <th>4</th>\n",
       "      <td>Afghanistan</td>\n",
       "      <td>2019</td>\n",
       "      <td>2927.245144</td>\n",
       "    </tr>\n",
       "  </tbody>\n",
       "</table>\n",
       "</div>"
      ],
      "text/plain": [
       "       Country  Year  GDP_Per_Capita\n",
       "0  Afghanistan  2023     1992.424394\n",
       "1  Afghanistan  2022     1981.710168\n",
       "2  Afghanistan  2021     2144.166570\n",
       "3  Afghanistan  2020     2769.685745\n",
       "4  Afghanistan  2019     2927.245144"
      ]
     },
     "execution_count": 14,
     "metadata": {},
     "output_type": "execute_result"
    }
   ],
   "source": [
    "gdp_df.head()"
   ]
  },
  {
   "cell_type": "markdown",
   "id": "72cc7299-df62-4aad-b111-6a3aafed821b",
   "metadata": {},
   "source": [
    "### 7. How many countries have data for all years? Which countries are missing many years of data? Look at the number of observations per year. What do you notice?\n",
    "\n",
    "*228 countries (or areas) with data for all years*\n",
    "\n",
    "*Countries with 24/34 years or less: Virgin Islands, Cayman Islands, Faroe Islands, Kosovo, Sint Maarten (Dutch part), Turks and Caicos Islands, Djibouti*\n",
    "\n",
    "*Observations/Countries included each year increase over time until 2015 after which the count remains stable.*"
   ]
  },
  {
   "cell_type": "code",
   "execution_count": 15,
   "id": "8de74e7b-762c-4ba5-b7c7-1411469bea7e",
   "metadata": {},
   "outputs": [
    {
     "data": {
      "text/plain": [
       "0      Africa Eastern and Southern\n",
       "1       Africa Western and Central\n",
       "2                          Albania\n",
       "3                          Andorra\n",
       "4                          Algeria\n",
       "                  ...             \n",
       "223                   Turkmenistan\n",
       "224                    Timor-Leste\n",
       "225                           Togo\n",
       "226            Trinidad and Tobago\n",
       "227                        Tunisia\n",
       "Name: Country, Length: 228, dtype: object"
      ]
     },
     "execution_count": 15,
     "metadata": {},
     "output_type": "execute_result"
    }
   ],
   "source": [
    "gdp_country_years = gdp_df.Country.value_counts()\n",
    "gdp_country_years = gdp_country_years.to_frame()\n",
    "gdp_country_years = gdp_country_years.reset_index()\n",
    "gdp_country_years.Country.loc[gdp_country_years['count'] == 34]"
   ]
  },
  {
   "cell_type": "code",
   "execution_count": 16,
   "id": "85645b5c-a576-451c-a433-405ee895b0de",
   "metadata": {},
   "outputs": [
    {
     "data": {
      "text/plain": [
       "240               Virgin Islands\n",
       "241               Cayman Islands\n",
       "242                Faroe Islands\n",
       "243                       Kosovo\n",
       "244    Sint Maarten (Dutch part)\n",
       "245     Turks and Caicos Islands\n",
       "246                     Djibouti\n",
       "Name: Country, dtype: object"
      ]
     },
     "execution_count": 16,
     "metadata": {},
     "output_type": "execute_result"
    }
   ],
   "source": [
    "gdp_country_years.Country.loc[gdp_country_years['count'] < 24]"
   ]
  },
  {
   "cell_type": "code",
   "execution_count": 17,
   "id": "38b45783-054e-417b-9557-052f6bd61177",
   "metadata": {},
   "outputs": [
    {
     "data": {
      "text/plain": [
       "Year\n",
       "2020    247\n",
       "2021    247\n",
       "2013    247\n",
       "2016    247\n",
       "2019    247\n",
       "2018    247\n",
       "2017    247\n",
       "2014    247\n",
       "2015    247\n",
       "2022    246\n",
       "2011    246\n",
       "2012    246\n",
       "2009    245\n",
       "2010    245\n",
       "2008    244\n",
       "2007    242\n",
       "2006    242\n",
       "2005    241\n",
       "2003    241\n",
       "2004    241\n",
       "2002    241\n",
       "2023    240\n",
       "2001    240\n",
       "2000    240\n",
       "1999    238\n",
       "1998    238\n",
       "1997    238\n",
       "1996    236\n",
       "1995    236\n",
       "1994    235\n",
       "1993    234\n",
       "1992    234\n",
       "1991    234\n",
       "1990    233\n",
       "Name: count, dtype: int64"
      ]
     },
     "execution_count": 17,
     "metadata": {},
     "output_type": "execute_result"
    }
   ],
   "source": [
    "gdp_df.Year.value_counts()"
   ]
  },
  {
   "cell_type": "markdown",
   "id": "dd1a55d2-831d-4d38-a353-2d6b7300520f",
   "metadata": {},
   "source": [
    "### 8. In this question, you're going to create some plots to show the distribution of GDP per capita for the year 2020. Go to the Python Graph Gallery (https://www.python-graph-gallery.com/) and look at the different types of plots under the Distribution section. Create a histogram, a density plot, a boxplot, and a violin plot. What do you notice when you look at these plots? How do the plots compare and what information can you get out of one type that you can't necessarily get out of the others?\n",
    "\n",
    "*Histogram and density show a similar pattern, and the violin plot shows a similar pattern vertically. The boxplot contains the most information including outliers and midpoints on top of the density and range shown in the other plots.*"
   ]
  },
  {
   "cell_type": "code",
   "execution_count": 18,
   "id": "5cdfc620-d7b6-451c-9c8b-6f757db0391a",
   "metadata": {},
   "outputs": [],
   "source": [
    "gdp_2020 = gdp_df.loc[gdp_df.Year == 2020]"
   ]
  },
  {
   "cell_type": "code",
   "execution_count": 19,
   "id": "772e8730-17dc-4e3e-9d0f-c9e33e3d864a",
   "metadata": {},
   "outputs": [
    {
     "data": {
      "text/html": [
       "<div>\n",
       "<style scoped>\n",
       "    .dataframe tbody tr th:only-of-type {\n",
       "        vertical-align: middle;\n",
       "    }\n",
       "\n",
       "    .dataframe tbody tr th {\n",
       "        vertical-align: top;\n",
       "    }\n",
       "\n",
       "    .dataframe thead th {\n",
       "        text-align: right;\n",
       "    }\n",
       "</style>\n",
       "<table border=\"1\" class=\"dataframe\">\n",
       "  <thead>\n",
       "    <tr style=\"text-align: right;\">\n",
       "      <th></th>\n",
       "      <th>Country</th>\n",
       "      <th>Year</th>\n",
       "      <th>GDP_Per_Capita</th>\n",
       "    </tr>\n",
       "  </thead>\n",
       "  <tbody>\n",
       "    <tr>\n",
       "      <th>3</th>\n",
       "      <td>Afghanistan</td>\n",
       "      <td>2020</td>\n",
       "      <td>2769.685745</td>\n",
       "    </tr>\n",
       "    <tr>\n",
       "      <th>27</th>\n",
       "      <td>Africa Eastern and Southern</td>\n",
       "      <td>2020</td>\n",
       "      <td>3861.111238</td>\n",
       "    </tr>\n",
       "    <tr>\n",
       "      <th>61</th>\n",
       "      <td>Africa Western and Central</td>\n",
       "      <td>2020</td>\n",
       "      <td>4622.731427</td>\n",
       "    </tr>\n",
       "    <tr>\n",
       "      <th>95</th>\n",
       "      <td>Albania</td>\n",
       "      <td>2020</td>\n",
       "      <td>14650.395929</td>\n",
       "    </tr>\n",
       "    <tr>\n",
       "      <th>129</th>\n",
       "      <td>Algeria</td>\n",
       "      <td>2020</td>\n",
       "      <td>14194.155748</td>\n",
       "    </tr>\n",
       "    <tr>\n",
       "      <th>...</th>\n",
       "      <td>...</td>\n",
       "      <td>...</td>\n",
       "      <td>...</td>\n",
       "    </tr>\n",
       "    <tr>\n",
       "      <th>8068</th>\n",
       "      <td>Virgin Islands</td>\n",
       "      <td>2020</td>\n",
       "      <td>45055.782930</td>\n",
       "    </tr>\n",
       "    <tr>\n",
       "      <th>8090</th>\n",
       "      <td>West Bank and Gaza</td>\n",
       "      <td>2020</td>\n",
       "      <td>5423.682547</td>\n",
       "    </tr>\n",
       "    <tr>\n",
       "      <th>8120</th>\n",
       "      <td>World</td>\n",
       "      <td>2020</td>\n",
       "      <td>18600.986362</td>\n",
       "    </tr>\n",
       "    <tr>\n",
       "      <th>8154</th>\n",
       "      <td>Zambia</td>\n",
       "      <td>2020</td>\n",
       "      <td>3391.595412</td>\n",
       "    </tr>\n",
       "    <tr>\n",
       "      <th>8188</th>\n",
       "      <td>Zimbabwe</td>\n",
       "      <td>2020</td>\n",
       "      <td>2987.269823</td>\n",
       "    </tr>\n",
       "  </tbody>\n",
       "</table>\n",
       "<p>247 rows × 3 columns</p>\n",
       "</div>"
      ],
      "text/plain": [
       "                          Country  Year  GDP_Per_Capita\n",
       "3                     Afghanistan  2020     2769.685745\n",
       "27    Africa Eastern and Southern  2020     3861.111238\n",
       "61     Africa Western and Central  2020     4622.731427\n",
       "95                        Albania  2020    14650.395929\n",
       "129                       Algeria  2020    14194.155748\n",
       "...                           ...   ...             ...\n",
       "8068               Virgin Islands  2020    45055.782930\n",
       "8090           West Bank and Gaza  2020     5423.682547\n",
       "8120                        World  2020    18600.986362\n",
       "8154                       Zambia  2020     3391.595412\n",
       "8188                     Zimbabwe  2020     2987.269823\n",
       "\n",
       "[247 rows x 3 columns]"
      ]
     },
     "execution_count": 19,
     "metadata": {},
     "output_type": "execute_result"
    }
   ],
   "source": [
    "gdp_2020"
   ]
  },
  {
   "cell_type": "code",
   "execution_count": 20,
   "id": "e1c84062-f74a-4512-b959-32402bb227a3",
   "metadata": {},
   "outputs": [
    {
     "data": {
      "text/plain": [
       "(array([111.,  59.,  23.,  23.,  15.,   9.,   3.,   0.,   3.,   1.]),\n",
       " array([   833.92025746,  13576.18426579,  26318.44827412,  39060.71228245,\n",
       "         51802.97629078,  64545.24029911,  77287.50430744,  90029.76831577,\n",
       "        102772.0323241 , 115514.29633243, 128256.56034076]),\n",
       " <BarContainer object of 10 artists>)"
      ]
     },
     "execution_count": 20,
     "metadata": {},
     "output_type": "execute_result"
    },
    {
     "data": {
      "image/png": "[encoded data removed]",
      "text/plain": [
       "<Figure size 640x480 with 1 Axes>"
      ]
     },
     "metadata": {},
     "output_type": "display_data"
    }
   ],
   "source": [
    "plt.hist(gdp_2020.GDP_Per_Capita)"
   ]
  },
  {
   "cell_type": "code",
   "execution_count": 23,
   "id": "dfac52a4-b45f-4dcb-96d8-5386847a8d32",
   "metadata": {},
   "outputs": [
    {
     "data": {
      "text/plain": [
       "<Axes: xlabel='GDP_Per_Capita', ylabel='Density'>"
      ]
     },
     "execution_count": 23,
     "metadata": {},
     "output_type": "execute_result"
    },
    {
     "data": {
      "image/png": "[encoded data removed]",
      "text/plain": [
       "<Figure size 640x480 with 1 Axes>"
      ]
     },
     "metadata": {},
     "output_type": "display_data"
    }
   ],
   "source": [
    "sns.kdeplot(gdp_2020.GDP_Per_Capita)"
   ]
  },
  {
   "cell_type": "code",
   "execution_count": 25,
   "id": "384460c9-c3ef-44f4-9a74-3af7cb8b240f",
   "metadata": {},
   "outputs": [
    {
     "data": {
      "text/plain": [
       "<Axes: ylabel='GDP_Per_Capita'>"
      ]
     },
     "execution_count": 25,
     "metadata": {},
     "output_type": "execute_result"
    },
    {
     "data": {
      "image/png": "[encoded data removed]",
      "text/plain": [
       "<Figure size 640x480 with 1 Axes>"
      ]
     },
     "metadata": {},
     "output_type": "display_data"
    }
   ],
   "source": [
    "sns.boxplot(data = gdp_2020, y='GDP_Per_Capita')"
   ]
  },
  {
   "cell_type": "code",
   "execution_count": 26,
   "id": "19f620bf-dd69-4916-a0a1-811f2f8a3f34",
   "metadata": {},
   "outputs": [
    {
     "data": {
      "text/plain": [
       "{'bodies': [<matplotlib.collections.FillBetweenPolyCollection at 0x16feb9d65d0>],\n",
       " 'cmaxes': <matplotlib.collections.LineCollection at 0x16fe69aef90>,\n",
       " 'cmins': <matplotlib.collections.LineCollection at 0x16feb9d6710>,\n",
       " 'cbars': <matplotlib.collections.LineCollection at 0x16feb9d6850>}"
      ]
     },
     "execution_count": 26,
     "metadata": {},
     "output_type": "execute_result"
    },
    {
     "data": {
      "image/png": "[encoded data removed]",
      "text/plain": [
       "<Figure size 640x480 with 1 Axes>"
      ]
     },
     "metadata": {},
     "output_type": "display_data"
    }
   ],
   "source": [
    "plt.violinplot(gdp_2020.GDP_Per_Capita)"
   ]
  },
  {
   "cell_type": "markdown",
   "id": "54865b5f-8cc4-46bf-ba7c-c0ea076e66e3",
   "metadata": {},
   "source": [
    "### 9. What was the median GDP per capita value in 2020?\n",
    "*15309.23598817024*"
   ]
  },
  {
   "cell_type": "code",
   "execution_count": 28,
   "id": "df5e55c3-07be-478f-823e-3fee579c0143",
   "metadata": {},
   "outputs": [
    {
     "data": {
      "text/plain": [
       "15309.23598817024"
      ]
     },
     "execution_count": 28,
     "metadata": {},
     "output_type": "execute_result"
    }
   ],
   "source": [
    "gdp_2020.GDP_Per_Capita.median()"
   ]
  },
  {
   "cell_type": "markdown",
   "id": "c79f56f7-00d3-409a-a319-6501a041566d",
   "metadata": {},
   "source": [
    "### 10. For this question, you're going to create some visualizations to compare GDP per capita values for the years 1990, 2000, 2010, and 2020. Start by subsetting your data to just these 4 years into a new DataFrame named gdp_decades. Using this, create the following 4 plots:\n",
    "\n",
    ">    A boxplot\n",
    ">    A barplot (check out the Barplot with Seaborn section: https://www.python-graph-gallery.com/barplot/#Seaborn)\n",
    ">    A scatterplot\n",
    ">    A scatterplot with a trend line overlaid (see this regplot example: https://www.python-graph-gallery.com/42-custom-linear-regression-fit-seaborn)\n",
    ">    Comment on what you observe has happened to GDP values over time and the relative strengths and weaknesses of each type of plot.\n",
    "\n",
    "*GDP generally increases over time.*\n"
   ]
  },
  {
   "cell_type": "code",
   "execution_count": 17,
   "id": "cb338d48-4498-48d7-b2a2-53cbbbecbfbe",
   "metadata": {},
   "outputs": [
    {
     "data": {
      "text/html": [
       "<div>\n",
       "<style scoped>\n",
       "    .dataframe tbody tr th:only-of-type {\n",
       "        vertical-align: middle;\n",
       "    }\n",
       "\n",
       "    .dataframe tbody tr th {\n",
       "        vertical-align: top;\n",
       "    }\n",
       "\n",
       "    .dataframe thead th {\n",
       "        text-align: right;\n",
       "    }\n",
       "</style>\n",
       "<table border=\"1\" class=\"dataframe\">\n",
       "  <thead>\n",
       "    <tr style=\"text-align: right;\">\n",
       "      <th></th>\n",
       "      <th>Country</th>\n",
       "      <th>Year</th>\n",
       "      <th>GDP_Per_Capita</th>\n",
       "    </tr>\n",
       "  </thead>\n",
       "  <tbody>\n",
       "    <tr>\n",
       "      <th>3</th>\n",
       "      <td>Afghanistan</td>\n",
       "      <td>2020</td>\n",
       "      <td>2769.685745</td>\n",
       "    </tr>\n",
       "    <tr>\n",
       "      <th>13</th>\n",
       "      <td>Afghanistan</td>\n",
       "      <td>2010</td>\n",
       "      <td>2848.586061</td>\n",
       "    </tr>\n",
       "    <tr>\n",
       "      <th>23</th>\n",
       "      <td>Afghanistan</td>\n",
       "      <td>2000</td>\n",
       "      <td>1617.826475</td>\n",
       "    </tr>\n",
       "    <tr>\n",
       "      <th>27</th>\n",
       "      <td>Africa Eastern and Southern</td>\n",
       "      <td>2020</td>\n",
       "      <td>3861.111238</td>\n",
       "    </tr>\n",
       "    <tr>\n",
       "      <th>37</th>\n",
       "      <td>Africa Eastern and Southern</td>\n",
       "      <td>2010</td>\n",
       "      <td>3863.836012</td>\n",
       "    </tr>\n",
       "  </tbody>\n",
       "</table>\n",
       "</div>"
      ],
      "text/plain": [
       "                        Country  Year  GDP_Per_Capita\n",
       "3                   Afghanistan  2020     2769.685745\n",
       "13                  Afghanistan  2010     2848.586061\n",
       "23                  Afghanistan  2000     1617.826475\n",
       "27  Africa Eastern and Southern  2020     3861.111238\n",
       "37  Africa Eastern and Southern  2010     3863.836012"
      ]
     },
     "execution_count": 17,
     "metadata": {},
     "output_type": "execute_result"
    }
   ],
   "source": [
    "decades = [1990, 2000, 2010, 2020]\n",
    "gdp_decades = gdp_df.loc[gdp_df.Year.isin(decades)]\n",
    "gdp_decades.head()"
   ]
  },
  {
   "cell_type": "code",
   "execution_count": 18,
   "id": "4161d436-3f58-4715-b5c6-020ac533dc1e",
   "metadata": {},
   "outputs": [
    {
     "data": {
      "text/plain": [
       "<Axes: xlabel='Year', ylabel='GDP_Per_Capita'>"
      ]
     },
     "execution_count": 18,
     "metadata": {},
     "output_type": "execute_result"
    },
    {
     "data": {
      "image/png": "[encoded data removed]",
      "text/plain": [
       "<Figure size 640x480 with 1 Axes>"
      ]
     },
     "metadata": {},
     "output_type": "display_data"
    }
   ],
   "source": [
    "sns.boxplot(data = gdp_decades, x = 'Year', y = 'GDP_Per_Capita')"
   ]
  },
  {
   "cell_type": "code",
   "execution_count": 19,
   "id": "795a404f-e561-4b68-a7f4-557df49a5f69",
   "metadata": {},
   "outputs": [
    {
     "data": {
      "text/plain": [
       "<Axes: xlabel='Year', ylabel='GDP_Per_Capita'>"
      ]
     },
     "execution_count": 19,
     "metadata": {},
     "output_type": "execute_result"
    },
    {
     "data": {
      "image/png": "[encoded data removed]",
      "text/plain": [
       "<Figure size 640x480 with 1 Axes>"
      ]
     },
     "metadata": {},
     "output_type": "display_data"
    }
   ],
   "source": [
    "sns.barplot(x='Year', y='GDP_Per_Capita', data=gdp_decades)"
   ]
  },
  {
   "cell_type": "code",
   "execution_count": 20,
   "id": "f7feae7d-3e23-4aa1-8303-ec42d3bbcbc1",
   "metadata": {},
   "outputs": [
    {
     "data": {
      "text/plain": [
       "<matplotlib.collections.PathCollection at 0x1a1363b5be0>"
      ]
     },
     "execution_count": 20,
     "metadata": {},
     "output_type": "execute_result"
    },
    {
     "data": {
      "image/png": "[encoded data removed]",
      "text/plain": [
       "<Figure size 640x480 with 1 Axes>"
      ]
     },
     "metadata": {},
     "output_type": "display_data"
    }
   ],
   "source": [
    "plt.scatter(gdp_decades.Year, gdp_decades.GDP_Per_Capita)"
   ]
  },
  {
   "cell_type": "code",
   "execution_count": 21,
   "id": "3bcfd191-f01b-462d-a977-c8f435fefee6",
   "metadata": {},
   "outputs": [
    {
     "data": {
      "text/plain": [
       "<Axes: xlabel='Year', ylabel='GDP_Per_Capita'>"
      ]
     },
     "execution_count": 21,
     "metadata": {},
     "output_type": "execute_result"
    },
    {
     "data": {
      "image/png": "[encoded data removed]",
      "text/plain": [
       "<Figure size 640x480 with 1 Axes>"
      ]
     },
     "metadata": {},
     "output_type": "display_data"
    }
   ],
   "source": [
    "sns.regplot(\n",
    "    x=gdp_decades.Year,\n",
    "    y=gdp_decades.GDP_Per_Capita,\n",
    "    line_kws={\"color\": \"green\", \"linewidth\": 1.5}\n",
    ")"
   ]
  },
  {
   "cell_type": "markdown",
   "id": "7f5710f2-8245-4c99-8333-103ff99aa61d",
   "metadata": {},
   "source": [
    "### 11. Which country was the first to have a GDP per capita greater than $100,000?\n",
    "\n",
    "*Brunei and UAE*"
   ]
  },
  {
   "cell_type": "code",
   "execution_count": 22,
   "id": "ddcc778a-c09b-4fd5-85af-352865c2f883",
   "metadata": {},
   "outputs": [
    {
     "data": {
      "text/html": [
       "<div>\n",
       "<style scoped>\n",
       "    .dataframe tbody tr th:only-of-type {\n",
       "        vertical-align: middle;\n",
       "    }\n",
       "\n",
       "    .dataframe tbody tr th {\n",
       "        vertical-align: top;\n",
       "    }\n",
       "\n",
       "    .dataframe thead th {\n",
       "        text-align: right;\n",
       "    }\n",
       "</style>\n",
       "<table border=\"1\" class=\"dataframe\">\n",
       "  <thead>\n",
       "    <tr style=\"text-align: right;\">\n",
       "      <th></th>\n",
       "      <th>Country</th>\n",
       "      <th>Year</th>\n",
       "      <th>GDP_Per_Capita</th>\n",
       "    </tr>\n",
       "  </thead>\n",
       "  <tbody>\n",
       "    <tr>\n",
       "      <th>974</th>\n",
       "      <td>Brunei</td>\n",
       "      <td>1990</td>\n",
       "      <td>118163.683198</td>\n",
       "    </tr>\n",
       "    <tr>\n",
       "      <th>7827</th>\n",
       "      <td>United Arab Emirates</td>\n",
       "      <td>1990</td>\n",
       "      <td>108057.042464</td>\n",
       "    </tr>\n",
       "  </tbody>\n",
       "</table>\n",
       "</div>"
      ],
      "text/plain": [
       "                   Country  Year  GDP_Per_Capita\n",
       "974                 Brunei  1990   118163.683198\n",
       "7827  United Arab Emirates  1990   108057.042464"
      ]
     },
     "execution_count": 22,
     "metadata": {},
     "output_type": "execute_result"
    }
   ],
   "source": [
    "high_gdp = gdp_df.loc[gdp_df.GDP_Per_Capita >= 100000]\n",
    "first_high_gdp = high_gdp.loc[high_gdp.Year == high_gdp.Year.min()]\n",
    "first_high_gdp"
   ]
  },
  {
   "cell_type": "markdown",
   "id": "df8df8c8-1bb8-4509-b0fd-1b9957da5405",
   "metadata": {},
   "source": [
    "### 12. Which country had the highest GDP per capita in 2020? Create a plot showing how this country's GDP per capita has changed over the timespan of the dataset.\n",
    "\n",
    "*Luxembourg*"
   ]
  },
  {
   "cell_type": "code",
   "execution_count": 29,
   "id": "ff7cfc7d-6834-4c3c-b338-7272f2095e85",
   "metadata": {},
   "outputs": [
    {
     "data": {
      "text/plain": [
       "[<matplotlib.lines.Line2D at 0x16ff23e0690>]"
      ]
     },
     "execution_count": 29,
     "metadata": {},
     "output_type": "execute_result"
    },
    {
     "data": {
      "image/png": "[encoded data removed]",
      "text/plain": [
       "<Figure size 640x480 with 1 Axes>"
      ]
     },
     "metadata": {},
     "output_type": "display_data"
    }
   ],
   "source": [
    "max_gdp_2020 = gdp_2020.Country.loc[gdp_2020.GDP_Per_Capita == gdp_2020.GDP_Per_Capita.max()]\n",
    "max_gdp_2020 = pd.Series.to_frame(max_gdp_2020)\n",
    "max_gdp_2020_country = max_gdp_2020.iloc[0, 0]\n",
    "plt.plot(gdp_df.Year.loc[gdp_df.Country == max_gdp_2020_country], gdp_df.GDP_Per_Capita.loc[gdp_df.Country == max_gdp_2020_country])"
   ]
  },
  {
   "cell_type": "markdown",
   "id": "a5aa95c6-f78f-4dbb-972e-3be1e3b60f1c",
   "metadata": {},
   "source": [
    "### 13. Which country had the lowest GDP per capita in 2020? Create a plot showing how this country's GDP per capita has changed over the timespan of the dataset. Bonus question: Is it true in general that coutries had a higher GDP per capita in 2020 than in 1990? Which countries had lower GDP per capita in 2020 than in 1990?\n",
    "\n",
    "*Burundi*\n",
    "\n",
    "*Yes, this is generally true.*\n",
    "\n",
    "*Countries with lower GDP in 2020 vs 1990 were mostly in Africa, the Caribbean, Eastern Europe, and Western Asia. The countries include: Aruba, Barbados, Brunei, Burundi, Congo, DRC, Gabon, Haiti, Kyrgyz Republic, Liberia, Libya, Madagascar, Moldova, Nauru, Saudi Arabia, St. Lucia, Syrian Arab Republic, Tajikistan, The Bahamas, Ukraine, UAE, and Zimbabwe.*"
   ]
  },
  {
   "cell_type": "code",
   "execution_count": 24,
   "id": "ce207498-4909-42f2-9a54-33561533ff2b",
   "metadata": {},
   "outputs": [
    {
     "data": {
      "text/plain": [
       "[<matplotlib.lines.Line2D at 0x1a13b4f20d0>]"
      ]
     },
     "execution_count": 24,
     "metadata": {},
     "output_type": "execute_result"
    },
    {
     "data": {
      "image/png": "[encoded data removed]",
      "text/plain": [
       "<Figure size 640x480 with 1 Axes>"
      ]
     },
     "metadata": {},
     "output_type": "display_data"
    }
   ],
   "source": [
    "min_gdp_2020 = gdp_2020.Country.loc[gdp_2020.GDP_Per_Capita == gdp_2020.GDP_Per_Capita.min()]\n",
    "min_gdp_2020 = pd.Series.to_frame(min_gdp_2020)\n",
    "min_gdp_2020_country = min_gdp_2020.iloc[0, 0]\n",
    "plt.plot(gdp_df.Year.loc[gdp_df.Country == min_gdp_2020_country], gdp_df.GDP_Per_Capita.loc[gdp_df.Country == min_gdp_2020_country])"
   ]
  },
  {
   "cell_type": "code",
   "execution_count": 25,
   "id": "800cba49-f44f-46ac-9d05-3e7cbecbace5",
   "metadata": {},
   "outputs": [],
   "source": [
    "gdp_2020 = gdp_df.loc[gdp_df.Year == 2020]\n",
    "gdp_1990 = gdp_df.loc[gdp_df.Year == 1990]\n",
    "gdp_compare = pd.merge(gdp_2020, gdp_1990, \n",
    "                               left_on = 'Country', right_on = 'Country', \n",
    "                               how = 'inner')"
   ]
  },
  {
   "cell_type": "code",
   "execution_count": 26,
   "id": "3ea9135d-cfbc-4d76-a4a2-b98d4b1c5a0d",
   "metadata": {},
   "outputs": [],
   "source": [
    "gdp_compare = gdp_compare.drop(columns = ['Year_x', 'Year_y'])"
   ]
  },
  {
   "cell_type": "code",
   "execution_count": 27,
   "id": "9f3578fd-5f14-4740-bb1c-8d8a1d9bbff3",
   "metadata": {},
   "outputs": [],
   "source": [
    "gdp_compare.columns = ['Country', 'GDP_2020', 'GDP_1990']"
   ]
  },
  {
   "cell_type": "code",
   "execution_count": 28,
   "id": "9c9d3af4-4076-473e-8d84-ccabf16aa735",
   "metadata": {},
   "outputs": [
    {
     "data": {
      "text/plain": [
       "10                                        Aruba\n",
       "16                                     Barbados\n",
       "27                                       Brunei\n",
       "30                                      Burundi\n",
       "37                     Central African Republic\n",
       "44                                        Congo\n",
       "49                              Dem. Rep. Congo\n",
       "71     Fragile and conflict affected situations\n",
       "73                                        Gabon\n",
       "84                                        Haiti\n",
       "111                             Kyrgyz Republic\n",
       "121                                     Liberia\n",
       "122                                       Libya\n",
       "129                                  Madagascar\n",
       "144                                     Moldova\n",
       "150                                       Nauru\n",
       "182                                Saudi Arabia\n",
       "197                                   St. Lucia\n",
       "206                        Syrian Arab Republic\n",
       "208                                  Tajikistan\n",
       "211                                 The Bahamas\n",
       "221                                     Ukraine\n",
       "222                        United Arab Emirates\n",
       "232                                    Zimbabwe\n",
       "Name: Country, dtype: object"
      ]
     },
     "execution_count": 28,
     "metadata": {},
     "output_type": "execute_result"
    }
   ],
   "source": [
    "lower_gdp = gdp_compare.Country.loc[gdp_compare.GDP_2020 <  gdp_compare.GDP_1990]\n",
    "lower_gdp"
   ]
  },
  {
   "cell_type": "markdown",
   "id": "a934a2b7-d4ef-4eca-ade7-23775306adfc",
   "metadata": {},
   "source": [
    "### 14. Read in the internet use dataset into a DataFrame named internet_df. You will likely get errors when doing this. Check the arguments for the read_csv function to find ones that can help correct the errors (https://pandas.pydata.org/docs/reference/api/pandas.read_csv.html) Once you are able to read it in, take per a look at the top and bottom few rows to make sure that it has been read in correctly. Also, check the datatypes of the columns."
   ]
  },
  {
   "cell_type": "code",
   "execution_count": 30,
   "id": "ff5c7536-76b2-4914-b279-90ff7c81a890",
   "metadata": {},
   "outputs": [
    {
     "name": "stdout",
     "output_type": "stream",
     "text": [
      "<class 'pandas.core.frame.DataFrame'>\n",
      "RangeIndex: 6083 entries, 0 to 6082\n",
      "Data columns (total 4 columns):\n",
      " #   Column           Non-Null Count  Dtype  \n",
      "---  ------           --------------  -----  \n",
      " 0   Country or Area  6083 non-null   object \n",
      " 1   Year             6083 non-null   int64  \n",
      " 2   Value            6083 non-null   float64\n",
      " 3   Value Footnotes  2826 non-null   object \n",
      "dtypes: float64(1), int64(1), object(2)\n",
      "memory usage: 190.2+ KB\n"
     ]
    }
   ],
   "source": [
    "internet_df = pd.read_csv('../data/internet_use.csv', nrows=6083)\n",
    "internet_df.info()"
   ]
  },
  {
   "cell_type": "markdown",
   "id": "72c964f0-8c65-41d3-94ad-c414d197e8c8",
   "metadata": {},
   "source": [
    "### 15. Drop the Value Footnotes column and rename the remaining three to 'Country', 'Year', and 'Internet_Users_Pct'."
   ]
  },
  {
   "cell_type": "code",
   "execution_count": 31,
   "id": "930ae01c-6879-4022-b178-2d4ed6ec720a",
   "metadata": {},
   "outputs": [],
   "source": [
    "internet_df = internet_df.drop(columns = 'Value Footnotes')"
   ]
  },
  {
   "cell_type": "code",
   "execution_count": 32,
   "id": "4755dce1-aa00-4237-b324-13d4268f7149",
   "metadata": {},
   "outputs": [],
   "source": [
    "internet_df.columns = ['Country', 'Year', 'Internet_Users_Pct']"
   ]
  },
  {
   "cell_type": "markdown",
   "id": "f5ddb926-9d4e-4321-a2b6-99a59e037041",
   "metadata": {},
   "source": [
    "### 16. Look at the number of observations in this dataset per year. What do you notice?\n",
    "\n",
    "*It started out at the highest in 1990, immediately dropped to the lowest point, then increased until around 2000. It held fairly stable until dropping slightly around 2017, rebounding slightly and being fairly stable in the early 2020s. I would assume the drop off in 2023 is due to early/incomplete data.*"
   ]
  },
  {
   "cell_type": "code",
   "execution_count": 32,
   "id": "78d8eebd-db49-4964-82b3-421b7b287a1a",
   "metadata": {},
   "outputs": [
    {
     "data": {
      "text/plain": [
       "Year\n",
       "1990    226\n",
       "2007    217\n",
       "2002    214\n",
       "2008    214\n",
       "2009    214\n",
       "2011    214\n",
       "2001    212\n",
       "2006    212\n",
       "2005    212\n",
       "2000    210\n",
       "2004    210\n",
       "2012    209\n",
       "2010    209\n",
       "2003    208\n",
       "1999    207\n",
       "2016    206\n",
       "2017    205\n",
       "2014    204\n",
       "2015    203\n",
       "2013    203\n",
       "1998    195\n",
       "1997    188\n",
       "2020    186\n",
       "2021    186\n",
       "2019    185\n",
       "2022    184\n",
       "1996    177\n",
       "2018    174\n",
       "1995    141\n",
       "1994     92\n",
       "1993     66\n",
       "1992     50\n",
       "1991     39\n",
       "2023     11\n",
       "Name: count, dtype: int64"
      ]
     },
     "execution_count": 32,
     "metadata": {},
     "output_type": "execute_result"
    }
   ],
   "source": [
    "internet_df.Year.value_counts()"
   ]
  },
  {
   "cell_type": "code",
   "execution_count": 34,
   "id": "8c7947e8-9e0d-4076-89ac-bfa23b68a71c",
   "metadata": {},
   "outputs": [
    {
     "data": {
      "image/png": "[encoded data removed]",
      "text/plain": [
       "<Figure size 640x480 with 1 Axes>"
      ]
     },
     "metadata": {},
     "output_type": "display_data"
    }
   ],
   "source": [
    "internet_year_counts = internet_df.Year.value_counts().to_frame().reset_index().sort_values('Year').plot('Year', 'count')"
   ]
  },
  {
   "cell_type": "markdown",
   "id": "eb9ec673-2e64-413d-ae65-94207d421283",
   "metadata": {},
   "source": [
    "### 17. What is the first year to have a non-zero internet users percentage value?\n",
    "\n",
    "*1990*"
   ]
  },
  {
   "cell_type": "code",
   "execution_count": 33,
   "id": "f4d916d4-febe-4bdc-873e-c473c0c72ee5",
   "metadata": {},
   "outputs": [
    {
     "data": {
      "text/plain": [
       "1990"
      ]
     },
     "execution_count": 33,
     "metadata": {},
     "output_type": "execute_result"
    }
   ],
   "source": [
    "greater_than_zero = internet_df.Year.loc[internet_df.Internet_Users_Pct > 0]\n",
    "greater_than_zero = greater_than_zero.to_frame()\n",
    "greater_than_zero.Year.min()"
   ]
  },
  {
   "cell_type": "markdown",
   "id": "39025e7d-96f3-4652-8387-52f5b2615507",
   "metadata": {},
   "source": [
    "### 18. How does the distribution of internet users percent differ for 2000 and 2014?\n",
    "\n",
    "*Over time, there are many less reports of near zero percentages, and there are many reports of between 80-95% compared to a very infrequently reported high of around 55% in 2000.*"
   ]
  },
  {
   "cell_type": "code",
   "execution_count": 37,
   "id": "e435d148-dfe6-44ef-91dc-ca91fdc47edc",
   "metadata": {},
   "outputs": [],
   "source": [
    "users_2000 = internet_df.Internet_Users_Pct.loc[internet_df.Year == 2000]\n",
    "users_2014 = internet_df.Internet_Users_Pct.loc[internet_df.Year == 2014]\n"
   ]
  },
  {
   "cell_type": "code",
   "execution_count": 38,
   "id": "ffda981e-bd3f-4fb6-a2ea-c3433eb355da",
   "metadata": {},
   "outputs": [
    {
     "data": {
      "text/plain": [
       "<Axes: >"
      ]
     },
     "execution_count": 38,
     "metadata": {},
     "output_type": "execute_result"
    },
    {
     "data": {
      "image/png": "[encoded data removed]",
      "text/plain": [
       "<Figure size 640x480 with 1 Axes>"
      ]
     },
     "metadata": {},
     "output_type": "display_data"
    }
   ],
   "source": [
    "users_2014.hist() \n",
    "users_2000.hist()"
   ]
  },
  {
   "cell_type": "markdown",
   "id": "61816e6a-3180-4d9f-9496-76c6b43896c7",
   "metadata": {},
   "source": [
    "### 19. For how many countries was the percentage of internet users below 5% in 2014?\n",
    "\n",
    "*10*"
   ]
  },
  {
   "cell_type": "code",
   "execution_count": 39,
   "id": "0b4cd7f1-0473-4d5b-b9a0-0fe99f823313",
   "metadata": {},
   "outputs": [],
   "source": [
    "below_5 = internet_df.Country.loc[(internet_df.Year == 2014) & (internet_df.Internet_Users_Pct < 5)]\n",
    "below_5 = below_5.to_frame()"
   ]
  },
  {
   "cell_type": "code",
   "execution_count": 40,
   "id": "b76d73e7-5494-4f5f-b97e-b41c5454bee4",
   "metadata": {},
   "outputs": [
    {
     "data": {
      "text/plain": [
       "np.int64(10)"
      ]
     },
     "execution_count": 40,
     "metadata": {},
     "output_type": "execute_result"
    }
   ],
   "source": [
    "below_5.Country.count()"
   ]
  },
  {
   "cell_type": "markdown",
   "id": "6d6cb4aa-505f-4482-8995-6e453695c723",
   "metadata": {},
   "source": [
    "### 20. Merge the two DataFrames to one. Do this in a way that keeps all rows from each of the two DataFrames. Call the new DataFrame gdp_and_internet_use. Look at the first and last few rows to confirm that it merged correctly."
   ]
  },
  {
   "cell_type": "code",
   "execution_count": 41,
   "id": "94561d47-e03c-412a-b3bc-3fa93434b202",
   "metadata": {},
   "outputs": [],
   "source": [
    "gdp_df['category'] = 'gdp'\n",
    "internet_df['category'] = 'internet'"
   ]
  },
  {
   "cell_type": "code",
   "execution_count": 42,
   "id": "1296ee80-accc-421d-a80f-a10960e0d3b6",
   "metadata": {},
   "outputs": [],
   "source": [
    "gdp_and_internet_use = pd.concat([gdp_df, internet_df])"
   ]
  },
  {
   "cell_type": "code",
   "execution_count": 43,
   "id": "baf5b221-5413-4927-b23c-8dff6594f5c9",
   "metadata": {},
   "outputs": [
    {
     "data": {
      "text/html": [
       "<div>\n",
       "<style scoped>\n",
       "    .dataframe tbody tr th:only-of-type {\n",
       "        vertical-align: middle;\n",
       "    }\n",
       "\n",
       "    .dataframe tbody tr th {\n",
       "        vertical-align: top;\n",
       "    }\n",
       "\n",
       "    .dataframe thead th {\n",
       "        text-align: right;\n",
       "    }\n",
       "</style>\n",
       "<table border=\"1\" class=\"dataframe\">\n",
       "  <thead>\n",
       "    <tr style=\"text-align: right;\">\n",
       "      <th></th>\n",
       "      <th>Country</th>\n",
       "      <th>Year</th>\n",
       "      <th>GDP_Per_Capita</th>\n",
       "      <th>category</th>\n",
       "      <th>Internet_Users_Pct</th>\n",
       "    </tr>\n",
       "  </thead>\n",
       "  <tbody>\n",
       "    <tr>\n",
       "      <th>0</th>\n",
       "      <td>Afghanistan</td>\n",
       "      <td>2023</td>\n",
       "      <td>1992.424394</td>\n",
       "      <td>gdp</td>\n",
       "      <td>NaN</td>\n",
       "    </tr>\n",
       "    <tr>\n",
       "      <th>1</th>\n",
       "      <td>Afghanistan</td>\n",
       "      <td>2022</td>\n",
       "      <td>1981.710168</td>\n",
       "      <td>gdp</td>\n",
       "      <td>NaN</td>\n",
       "    </tr>\n",
       "    <tr>\n",
       "      <th>2</th>\n",
       "      <td>Afghanistan</td>\n",
       "      <td>2021</td>\n",
       "      <td>2144.166570</td>\n",
       "      <td>gdp</td>\n",
       "      <td>NaN</td>\n",
       "    </tr>\n",
       "    <tr>\n",
       "      <th>3</th>\n",
       "      <td>Afghanistan</td>\n",
       "      <td>2020</td>\n",
       "      <td>2769.685745</td>\n",
       "      <td>gdp</td>\n",
       "      <td>NaN</td>\n",
       "    </tr>\n",
       "    <tr>\n",
       "      <th>4</th>\n",
       "      <td>Afghanistan</td>\n",
       "      <td>2019</td>\n",
       "      <td>2927.245144</td>\n",
       "      <td>gdp</td>\n",
       "      <td>NaN</td>\n",
       "    </tr>\n",
       "    <tr>\n",
       "      <th>...</th>\n",
       "      <td>...</td>\n",
       "      <td>...</td>\n",
       "      <td>...</td>\n",
       "      <td>...</td>\n",
       "      <td>...</td>\n",
       "    </tr>\n",
       "    <tr>\n",
       "      <th>6078</th>\n",
       "      <td>Zimbabwe</td>\n",
       "      <td>1997</td>\n",
       "      <td>NaN</td>\n",
       "      <td>internet</td>\n",
       "      <td>0.033080</td>\n",
       "    </tr>\n",
       "    <tr>\n",
       "      <th>6079</th>\n",
       "      <td>Zimbabwe</td>\n",
       "      <td>1996</td>\n",
       "      <td>NaN</td>\n",
       "      <td>internet</td>\n",
       "      <td>0.016790</td>\n",
       "    </tr>\n",
       "    <tr>\n",
       "      <th>6080</th>\n",
       "      <td>Zimbabwe</td>\n",
       "      <td>1995</td>\n",
       "      <td>NaN</td>\n",
       "      <td>internet</td>\n",
       "      <td>0.007684</td>\n",
       "    </tr>\n",
       "    <tr>\n",
       "      <th>6081</th>\n",
       "      <td>Zimbabwe</td>\n",
       "      <td>1994</td>\n",
       "      <td>NaN</td>\n",
       "      <td>internet</td>\n",
       "      <td>0.001739</td>\n",
       "    </tr>\n",
       "    <tr>\n",
       "      <th>6082</th>\n",
       "      <td>Zimbabwe</td>\n",
       "      <td>1990</td>\n",
       "      <td>NaN</td>\n",
       "      <td>internet</td>\n",
       "      <td>0.000000</td>\n",
       "    </tr>\n",
       "  </tbody>\n",
       "</table>\n",
       "<p>14302 rows × 5 columns</p>\n",
       "</div>"
      ],
      "text/plain": [
       "          Country  Year  GDP_Per_Capita  category  Internet_Users_Pct\n",
       "0     Afghanistan  2023     1992.424394       gdp                 NaN\n",
       "1     Afghanistan  2022     1981.710168       gdp                 NaN\n",
       "2     Afghanistan  2021     2144.166570       gdp                 NaN\n",
       "3     Afghanistan  2020     2769.685745       gdp                 NaN\n",
       "4     Afghanistan  2019     2927.245144       gdp                 NaN\n",
       "...           ...   ...             ...       ...                 ...\n",
       "6078     Zimbabwe  1997             NaN  internet            0.033080\n",
       "6079     Zimbabwe  1996             NaN  internet            0.016790\n",
       "6080     Zimbabwe  1995             NaN  internet            0.007684\n",
       "6081     Zimbabwe  1994             NaN  internet            0.001739\n",
       "6082     Zimbabwe  1990             NaN  internet            0.000000\n",
       "\n",
       "[14302 rows x 5 columns]"
      ]
     },
     "execution_count": 43,
     "metadata": {},
     "output_type": "execute_result"
    }
   ],
   "source": [
    "gdp_and_internet_use"
   ]
  },
  {
   "cell_type": "markdown",
   "id": "8a85771a-b518-49fb-96f2-bcde6c6dc5fd",
   "metadata": {},
   "source": [
    "### 21. Find the three countries with the highest internet users percentage in 2014. Use a seaborn FacetGrid (https://seaborn.pydata.org/generated/seaborn.FacetGrid.html) to compare how the GDP per capita has changed over time for these three countries. What do you notice?"
   ]
  },
  {
   "cell_type": "code",
   "execution_count": 44,
   "id": "e76e1155-45c8-4567-9a6e-4492be9e10cf",
   "metadata": {},
   "outputs": [],
   "source": [
    "top_users_2014 = gdp_and_internet_use.loc[(gdp_and_internet_use.Year == 2014) & (gdp_and_internet_use.category == 'internet')].sort_values(by = 'Internet_Users_Pct', ascending = False)"
   ]
  },
  {
   "cell_type": "code",
   "execution_count": 45,
   "id": "3c6b403a-ce9a-47c9-8b61-d2adb00b048d",
   "metadata": {},
   "outputs": [
    {
     "data": {
      "text/html": [
       "<div>\n",
       "<style scoped>\n",
       "    .dataframe tbody tr th:only-of-type {\n",
       "        vertical-align: middle;\n",
       "    }\n",
       "\n",
       "    .dataframe tbody tr th {\n",
       "        vertical-align: top;\n",
       "    }\n",
       "\n",
       "    .dataframe thead th {\n",
       "        text-align: right;\n",
       "    }\n",
       "</style>\n",
       "<table border=\"1\" class=\"dataframe\">\n",
       "  <thead>\n",
       "    <tr style=\"text-align: right;\">\n",
       "      <th></th>\n",
       "      <th>Country</th>\n",
       "      <th>Year</th>\n",
       "      <th>GDP_Per_Capita</th>\n",
       "      <th>category</th>\n",
       "      <th>Internet_Users_Pct</th>\n",
       "    </tr>\n",
       "  </thead>\n",
       "  <tbody>\n",
       "    <tr>\n",
       "      <th>2592</th>\n",
       "      <td>Iceland</td>\n",
       "      <td>2014</td>\n",
       "      <td>NaN</td>\n",
       "      <td>internet</td>\n",
       "      <td>98.158</td>\n",
       "    </tr>\n",
       "    <tr>\n",
       "      <th>1893</th>\n",
       "      <td>Falkland (Malvinas) Islands</td>\n",
       "      <td>2014</td>\n",
       "      <td>NaN</td>\n",
       "      <td>internet</td>\n",
       "      <td>97.600</td>\n",
       "    </tr>\n",
       "    <tr>\n",
       "      <th>602</th>\n",
       "      <td>Bermuda</td>\n",
       "      <td>2014</td>\n",
       "      <td>NaN</td>\n",
       "      <td>internet</td>\n",
       "      <td>96.800</td>\n",
       "    </tr>\n",
       "  </tbody>\n",
       "</table>\n",
       "</div>"
      ],
      "text/plain": [
       "                          Country  Year  GDP_Per_Capita  category  \\\n",
       "2592                      Iceland  2014             NaN  internet   \n",
       "1893  Falkland (Malvinas) Islands  2014             NaN  internet   \n",
       "602                       Bermuda  2014             NaN  internet   \n",
       "\n",
       "      Internet_Users_Pct  \n",
       "2592              98.158  \n",
       "1893              97.600  \n",
       "602               96.800  "
      ]
     },
     "execution_count": 45,
     "metadata": {},
     "output_type": "execute_result"
    }
   ],
   "source": [
    "top_users_2014.head(3)"
   ]
  },
  {
   "cell_type": "code",
   "execution_count": 46,
   "id": "6175144e-8a93-4b93-a9ac-ce74bb521d81",
   "metadata": {},
   "outputs": [],
   "source": [
    "top_internet_countries_2014 = [top_users_2014.iloc[0, 0], top_users_2014.iloc[1, 0], top_users_2014.iloc[2, 0]]"
   ]
  },
  {
   "cell_type": "code",
   "execution_count": 47,
   "id": "b868f3ff-e283-448a-ab8e-03b5fb6b6801",
   "metadata": {},
   "outputs": [],
   "source": [
    "top_2014_internetters_gdp = gdp_and_internet_use.loc[(gdp_and_internet_use.Country.isin(top_internet_countries_2014)) & (gdp_and_internet_use['category'] == 'gdp')]\n",
    "top_2014_internetters_gdp = top_2014_internetters_gdp.drop(columns = ['Internet_Users_Pct', 'category'])"
   ]
  },
  {
   "cell_type": "code",
   "execution_count": 50,
   "id": "40f2bc1d-b46c-4943-ac4d-f04747783aeb",
   "metadata": {},
   "outputs": [
    {
     "data": {
      "image/png": "[encoded data removed]",
      "text/plain": [
       "<Figure size 311.111x300 with 1 Axes>"
      ]
     },
     "metadata": {},
     "output_type": "display_data"
    }
   ],
   "source": [
    "graph = sns.FacetGrid(data = top_2014_internetters_gdp)\n",
    "graph.map(plt.plot, 'Year', 'GDP_Per_Capita').add_legend()\n",
    "plt.show()"
   ]
  },
  {
   "cell_type": "markdown",
   "id": "f21f1cea-9285-4d2e-b574-19eabb0dee3d",
   "metadata": {},
   "source": [
    "### 22. Subset gdp_and_internet_use to just the year 2014. Save this as a new dataframe named gdp_and_internet_use_2014"
   ]
  },
  {
   "cell_type": "code",
   "execution_count": 52,
   "id": "f6fa8a52-c63e-4e30-8960-709b80c6c3a3",
   "metadata": {},
   "outputs": [],
   "source": [
    "gdp_and_internet_use_2014 = gdp_and_internet_use.loc[gdp_and_internet_use.Year == 2014]\n",
    "gdp_and_internet_use_2014 = gdp_and_internet_use_2014.reset_index(drop = True)"
   ]
  },
  {
   "cell_type": "markdown",
   "id": "ee4c6dd5-ac45-48e6-8018-2a5d5360a181",
   "metadata": {},
   "source": [
    "### 23. Create a plot which compares Internet Users Percentage and GDP per Capita for the year 2014. What do you notice from this plot? If you see any unusual points, investigate them.\n",
    "\n",
    "*Generally we see higher GDP coinciding with higher internet user percentages.*\n",
    "\n",
    "*In particular, Equitorial Guinea has roughly 1/3 of the internet usage percentage we'd expect to see from its GDP compared with other countries. A quick search resulted in discovering that their GDP is largely due to oil wealth which benefits a very small amount of its population and that much of its general population lives in poverty without access to internet and other resources.*"
   ]
  },
  {
   "cell_type": "code",
   "execution_count": 53,
   "id": "086d3a4d-a6b9-4f04-b339-416dd296e8a0",
   "metadata": {},
   "outputs": [],
   "source": [
    "gdp_and_internet_use_2014 = gdp_and_internet_use_2014.pivot(index='Country', columns='category', values=['GDP_Per_Capita', 'Internet_Users_Pct'])"
   ]
  },
  {
   "cell_type": "code",
   "execution_count": 54,
   "id": "081180bb-2e27-4bd6-8cf3-b6bea2b0f5ff",
   "metadata": {},
   "outputs": [],
   "source": [
    "gdp_and_internet_use_2014.columns = ['_'.join(col).strip() for col in gdp_and_internet_use_2014.columns.values]"
   ]
  },
  {
   "cell_type": "code",
   "execution_count": 55,
   "id": "fae5ec3a-d1af-4890-96e5-5a763e61897d",
   "metadata": {},
   "outputs": [],
   "source": [
    "gdp_and_internet_use_2014 = gdp_and_internet_use_2014.drop(columns = ['GDP_Per_Capita_internet', 'Internet_Users_Pct_gdp'])"
   ]
  },
  {
   "cell_type": "code",
   "execution_count": 56,
   "id": "c93dffd5-faa6-4790-a39a-b977df3ac263",
   "metadata": {},
   "outputs": [],
   "source": [
    "gdp_and_internet_use_2014.columns = ['GDP_Per_Capita', 'Internet_Users_Pct']"
   ]
  },
  {
   "cell_type": "code",
   "execution_count": 57,
   "id": "899de11c-1312-4f55-8e52-0966a3a20924",
   "metadata": {},
   "outputs": [
    {
     "data": {
      "text/plain": [
       "<matplotlib.collections.PathCollection at 0x16ff137e660>"
      ]
     },
     "execution_count": 57,
     "metadata": {},
     "output_type": "execute_result"
    },
    {
     "data": {
      "image/png": "[encoded data removed]",
      "text/plain": [
       "<Figure size 640x480 with 1 Axes>"
      ]
     },
     "metadata": {},
     "output_type": "display_data"
    }
   ],
   "source": [
    "plt.scatter(gdp_and_internet_use_2014.GDP_Per_Capita, gdp_and_internet_use_2014.Internet_Users_Pct)"
   ]
  },
  {
   "cell_type": "code",
   "execution_count": null,
   "id": "63a113aa-d155-4ab8-88be-2eb825a74b38",
   "metadata": {},
   "outputs": [],
   "source": [
    "gdp_and_internet_use_2014.sort_values(by = 'Internet_Users_Pct').head(60)"
   ]
  },
  {
   "cell_type": "markdown",
   "id": "2ee392ca-592d-4194-a362-889f451460f2",
   "metadata": {},
   "source": [
    "### 24. Stretch Question: Use the qcut function from pandas (https://pandas.pydata.org/docs/reference/api/pandas.qcut.html) to divide countries in gdp_per_capita_2014 into three groups based on their GDP per capita values. Label these groups as \"Low\", \"Medium\", and \"High\". Put these labels in a new column, named \"GDP_group\"."
   ]
  },
  {
   "cell_type": "code",
   "execution_count": 60,
   "id": "650ed4f4-fa14-4082-93f6-57004be1225b",
   "metadata": {},
   "outputs": [],
   "source": [
    "gdp_and_internet_use_2014['GDP_Group'] = pd.qcut(gdp_and_internet_use_2014.GDP_Per_Capita, q = 3, labels = ['low', 'medium', 'high'])"
   ]
  },
  {
   "cell_type": "code",
   "execution_count": 61,
   "id": "ede1b4d6-055c-4d78-912a-2c9fe25995ad",
   "metadata": {},
   "outputs": [
    {
     "data": {
      "text/html": [
       "<div>\n",
       "<style scoped>\n",
       "    .dataframe tbody tr th:only-of-type {\n",
       "        vertical-align: middle;\n",
       "    }\n",
       "\n",
       "    .dataframe tbody tr th {\n",
       "        vertical-align: top;\n",
       "    }\n",
       "\n",
       "    .dataframe thead th {\n",
       "        text-align: right;\n",
       "    }\n",
       "</style>\n",
       "<table border=\"1\" class=\"dataframe\">\n",
       "  <thead>\n",
       "    <tr style=\"text-align: right;\">\n",
       "      <th></th>\n",
       "      <th>GDP_Per_Capita</th>\n",
       "      <th>Internet_Users_Pct</th>\n",
       "      <th>GDP_Group</th>\n",
       "    </tr>\n",
       "    <tr>\n",
       "      <th>Country</th>\n",
       "      <th></th>\n",
       "      <th></th>\n",
       "      <th></th>\n",
       "    </tr>\n",
       "  </thead>\n",
       "  <tbody>\n",
       "    <tr>\n",
       "      <th>Afghanistan</th>\n",
       "      <td>3017.942544</td>\n",
       "      <td>7.0000</td>\n",
       "      <td>low</td>\n",
       "    </tr>\n",
       "    <tr>\n",
       "      <th>Africa Eastern and Southern</th>\n",
       "      <td>4052.851526</td>\n",
       "      <td>NaN</td>\n",
       "      <td>low</td>\n",
       "    </tr>\n",
       "    <tr>\n",
       "      <th>Africa Western and Central</th>\n",
       "      <td>4816.917355</td>\n",
       "      <td>NaN</td>\n",
       "      <td>low</td>\n",
       "    </tr>\n",
       "    <tr>\n",
       "      <th>Albania</th>\n",
       "      <td>12788.747231</td>\n",
       "      <td>54.3000</td>\n",
       "      <td>medium</td>\n",
       "    </tr>\n",
       "    <tr>\n",
       "      <th>Algeria</th>\n",
       "      <td>15073.762940</td>\n",
       "      <td>29.5000</td>\n",
       "      <td>medium</td>\n",
       "    </tr>\n",
       "    <tr>\n",
       "      <th>...</th>\n",
       "      <td>...</td>\n",
       "      <td>...</td>\n",
       "      <td>...</td>\n",
       "    </tr>\n",
       "    <tr>\n",
       "      <th>West Bank and Gaza</th>\n",
       "      <td>5990.426615</td>\n",
       "      <td>NaN</td>\n",
       "      <td>low</td>\n",
       "    </tr>\n",
       "    <tr>\n",
       "      <th>World</th>\n",
       "      <td>17307.606891</td>\n",
       "      <td>NaN</td>\n",
       "      <td>medium</td>\n",
       "    </tr>\n",
       "    <tr>\n",
       "      <th>Yemen</th>\n",
       "      <td>NaN</td>\n",
       "      <td>22.5500</td>\n",
       "      <td>NaN</td>\n",
       "    </tr>\n",
       "    <tr>\n",
       "      <th>Zambia</th>\n",
       "      <td>3585.577485</td>\n",
       "      <td>6.5000</td>\n",
       "      <td>low</td>\n",
       "    </tr>\n",
       "    <tr>\n",
       "      <th>Zimbabwe</th>\n",
       "      <td>3360.552173</td>\n",
       "      <td>16.3647</td>\n",
       "      <td>low</td>\n",
       "    </tr>\n",
       "  </tbody>\n",
       "</table>\n",
       "<p>285 rows × 3 columns</p>\n",
       "</div>"
      ],
      "text/plain": [
       "                             GDP_Per_Capita  Internet_Users_Pct GDP_Group\n",
       "Country                                                                  \n",
       "Afghanistan                     3017.942544              7.0000       low\n",
       "Africa Eastern and Southern     4052.851526                 NaN       low\n",
       "Africa Western and Central      4816.917355                 NaN       low\n",
       "Albania                        12788.747231             54.3000    medium\n",
       "Algeria                        15073.762940             29.5000    medium\n",
       "...                                     ...                 ...       ...\n",
       "West Bank and Gaza              5990.426615                 NaN       low\n",
       "World                          17307.606891                 NaN    medium\n",
       "Yemen                                   NaN             22.5500       NaN\n",
       "Zambia                          3585.577485              6.5000       low\n",
       "Zimbabwe                        3360.552173             16.3647       low\n",
       "\n",
       "[285 rows x 3 columns]"
      ]
     },
     "execution_count": 61,
     "metadata": {},
     "output_type": "execute_result"
    }
   ],
   "source": [
    "gdp_and_internet_use_2014"
   ]
  },
  {
   "cell_type": "markdown",
   "id": "d71064a5-628d-410c-a3eb-a93ceee255a1",
   "metadata": {},
   "source": [
    "### 25. Stretch Question: How does the median internet users percentage compare for the three gdp groups?"
   ]
  },
  {
   "cell_type": "code",
   "execution_count": 63,
   "id": "c42663bd-4797-498f-8d76-14175f270828",
   "metadata": {},
   "outputs": [
    {
     "name": "stderr",
     "output_type": "stream",
     "text": [
      "C:\\Users\\user\\AppData\\Local\\Temp\\ipykernel_15844\\1281329675.py:1: FutureWarning: The default of observed=False is deprecated and will be changed to True in a future version of pandas. Pass observed=False to retain current behavior or observed=True to adopt the future default and silence this warning.\n",
      "  gdp_and_internet_use_2014.groupby('GDP_Group')['Internet_Users_Pct'].median()\n"
     ]
    },
    {
     "data": {
      "text/plain": [
       "GDP_Group\n",
       "low       11.6000\n",
       "medium    44.5945\n",
       "high      75.9800\n",
       "Name: Internet_Users_Pct, dtype: float64"
      ]
     },
     "execution_count": 63,
     "metadata": {},
     "output_type": "execute_result"
    }
   ],
   "source": [
    "gdp_and_internet_use_2014.groupby('GDP_Group')['Internet_Users_Pct'].median()"
   ]
  },
  {
   "cell_type": "markdown",
   "id": "f9e9a88e-a030-45c4-a112-84f27a15c9dc",
   "metadata": {},
   "source": [
    "### Bonus exercise: Download another data set from the UN data (http://data.un.org/Explorer.aspx) to merge with your data and explore.\n"
   ]
  },
  {
   "cell_type": "code",
   "execution_count": null,
   "id": "a7735aa5-2240-493a-a6d4-efbfeb7d9670",
   "metadata": {},
   "outputs": [],
   "source": []
  }
 ],
 "metadata": {
  "kernelspec": {
   "display_name": "Python 3 (ipykernel)",
   "language": "python",
   "name": "python3"
  },
  "language_info": {
   "codemirror_mode": {
    "name": "ipython",
    "version": 3
   },
   "file_extension": ".py",
   "mimetype": "text/x-python",
   "name": "python",
   "nbconvert_exporter": "python",
   "pygments_lexer": "ipython3",
   "version": "3.13.5"
  }
 },
 "nbformat": 4,
 "nbformat_minor": 5
}
